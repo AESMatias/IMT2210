{
  "cells": [
    {
      "cell_type": "markdown",
      "id": "1e2c6361-c9c5-425a-8cd2-59fb00841bb9",
      "metadata": {
        "id": "1e2c6361-c9c5-425a-8cd2-59fb00841bb9"
      },
      "source": [
        "# Tarea 4 IMT2210-Algebra lineal para ciencias de datos"
      ]
    },
    {
      "cell_type": "markdown",
      "id": "c4cac633-5938-4e1c-8929-b5cb15fc86a4",
      "metadata": {
        "id": "c4cac633-5938-4e1c-8929-b5cb15fc86a4"
      },
      "source": [
        "Para esta tarea nos enfocaremos en problemas reales donde se aplica la materia que hemos aprendido hasta ahora en el curso.  "
      ]
    },
    {
      "cell_type": "markdown",
      "id": "61bf44c7-5136-4a05-9eaf-73f5d872a36f",
      "metadata": {
        "id": "61bf44c7-5136-4a05-9eaf-73f5d872a36f"
      },
      "source": [
        "## puentes en celosía  \n",
        "<img src=\"https://i.redd.it/9zsjh5exod291.png\" alt=\"Meme\" width=\"500\"/>\n",
        "\n",
        "\n",
        "# Contexto\n",
        "Los puentes de celosía son estructuras esenciales en la ingeniería civil y han sido utilizados durante siglos debido a su eficiencia y capacidad para soportar grandes cargas. Un puente de celosía se compone de un entramado de barras conectadas en sus extremos mediante nodos, formando una serie de triángulos. Esta configuración triangular es fundamental ya que proporciona estabilidad estructural y distribuye las cargas de manera uniforme a lo largo del puente.\n",
        "\n",
        "En el análisis estructural, especialmente en el diseño y evaluación de puentes de celosía, es crucial comprender cómo las fuerzas aplicadas afectan a la estructura. Aquí es donde entra en juego el concepto de matrices de rigidez. Las matrices de rigidez son herramientas matemáticas que nos permiten modelar la relación entre las fuerzas aplicadas a una estructura y las deformaciones resultantes. A través de estas matrices, podemos calcular los desplazamientos en los nodos del puente y, a partir de estos desplazamientos, determinar las fuerzas internas en cada barra del puente."
      ]
    },
    {
      "cell_type": "markdown",
      "id": "2b0b8356-b844-41a6-aa87-6dd3ada5d354",
      "metadata": {
        "id": "2b0b8356-b844-41a6-aa87-6dd3ada5d354"
      },
      "source": [
        "# Método matricial de la rigidez\n",
        "\n",
        "### Matriz de rigidez de un elemento local\n",
        "\n",
        "Comenzaremos con la derivación de cómo funciona la matriz de rigidez.\n",
        "\n",
        "Toda la idea detrás del método matricial de la rigidez comienza con unos conceptos muy básicos de la física. El primero es la ley de Hooke, que dice que el cambio de largo de un elemento en tensión está en proporción directa con la fuerza que se está ejerciendo sobre el elemento. Y la constante de proporcionalidad, \\( k \\), entre la fuerza y el largo del elemento en cuestión, se le llama rigidez del elemento.\n",
        "$$F = k \\delta$$\n",
        "\n",
        "Para comenzar, contemplaremos un ejemplo simple donde veremos cómo se ve esta ecuación en un solo elemento estructural, una viga rígida.\n",
        "![viga rígida](https://www.engineeringskills.com/_next/image?url=%2Fimages%2Fposts%2Fdirect-stiffness-method%2FAxially-loaded-bar.jpg&w=750&q=75)\n",
        "\n",
        "Nuestra viga está sometida a dos fuerzas, una en cada extremo o nodo, $F_{x,1}$ y $F_{x,2}$. Según la ley de Hooke, sabemos que estas fuerzas inducirán desplazamientos, $u_{x,1}$ y $u_{x,2}$ en los nodos 1 y 2 respectivamente. Nuestra tarea ahora es obtener una expresión similar a la ley de Hooke que relacione las fuerzas $F_{x,1}$ y $F_{x,2}$ con los desplazamientos $u_{x,1}$ y $u_{x,2}$.\n",
        "\n",
        "Obtener la expresión que representa esto es simple ya que sabemos que la rigidez de un elemento se expresa como $\\frac{EA}{L}$ donde $L$ es el largo del elemento, $A$ es el área de la sección transversal y $E$ es el módulo de Young o módulo de elasticidad.  \n",
        "Usando al ecuación $F = k \\delta$, podemos reemplazar $k$ con $\\frac{EA}{L}$ y $\\delta$ por el despazamiento de el nodo.\n",
        "\n",
        "Entonces, para el nodo 1:\n",
        "\n",
        "$$\n",
        "\\begin{align}\n",
        "F_{x,1} &= \\frac{EA}{L} (u_{x,1} - u_{x,2}) \\\\\n",
        "F_{x,1} &= \\frac{EA}{L} u_{x,1} - \\frac{EA}{L} u_{x,2}\n",
        "\\end{align}\n",
        "$$\n",
        "\n",
        "Para el nodo 2:\n",
        "\n",
        "$$\n",
        "\\begin{align}\n",
        "F_{x,2} &= \\frac{EA}{L} (u_{x,2} - u_{x,1}) \\\\\n",
        "F_{x,2} &= -\\frac{EA}{L} u_{x,1} + \\frac{EA}{L} u_{x,2}\n",
        "\\end{align}\n",
        "$$\n",
        "\n",
        "Finalmente, si combinamos las dos ecuaciones en una y las representamos de forma matricial obtenemos:\n",
        "\n",
        "$$\n",
        "\\begin{Bmatrix}\n",
        "F_{x,1} \\\\\n",
        "F_{x,2}\n",
        "\\end{Bmatrix}\n",
        "= \\frac{EA}{L}\n",
        "\\begin{bmatrix}\n",
        "1 & -1 \\\\\n",
        "-1 & 1\n",
        "\\end{bmatrix}\n",
        "\\begin{Bmatrix}\n",
        "u_{x,1} \\\\\n",
        "u_{x,2}\n",
        "\\end{Bmatrix}\n",
        "$$\n"
      ]
    },
    {
      "cell_type": "markdown",
      "id": "3b9281cc-c17f-45f1-b89d-4088daa8ba16",
      "metadata": {
        "id": "3b9281cc-c17f-45f1-b89d-4088daa8ba16"
      },
      "source": [
        "Observamos que el elemento de rigidez que relaciona la fuerza con el desplazamiento ha sido reemplazado por una __¡matriz!__. Esta se conoce como la ___Matriz de Rigidez del Elemento Local___, $[K_L]$ y relaciona las fuerzas en cada nodo, ${F_L}$ con los desplazamientos nodales correspondientes, ${u_L}$. Podemos ver a partir de la matriz de rigidez que las fuerzas desarrolladas en cada nodo tendrán igual magnitud y serán opuestas en dirección, confirmando el equilibrio estático de la barra. El elemento de barra es típicamente parte de una estructura más grande y, como tal, el desplazamiento en cada nodo será generalmente diferente, dando lugar a un alargamiento o acortamiento de la barra. La matriz de rigidez del elemento local es la ___unidad fundamental___ del análisis por método matricial de la rigidez, y es literalmente el bloque de construcción básico que usamos para ensamblar nuestro modelo de la estructura. Para elementos estructurales más sofisticados, esta matriz se vuelve más grande y compleja, pero tengan en cuenta que siempre se trata de relacionar las acciones (fuerzas, momentos) aplicadas a un elemento, con los desplazamientos y rotaciones correspondientes.\n"
      ]
    },
    {
      "cell_type": "markdown",
      "id": "e4350fb0-9d3f-421a-ab6c-99ec42e0a63e",
      "metadata": {
        "id": "e4350fb0-9d3f-421a-ab6c-99ec42e0a63e"
      },
      "source": [
        "Como vimos al principio, esta técnica se basa en dos ideas básicas: la ley de Hooke, que ya hemos cubierto, y esta siguiente. Envuelto en la ecuación matricial estaba la relación fuerza-desplazamiento para ambos nodos del miembro. Pero recuerda que dijimos que este miembro fue 'extraído' de una estructura más grande. Y por lo tanto, podría fácilmente ser el caso que el nodo 2 tenga 2, 3 o _n_ otros miembros conectados a él. Cada uno de esos miembros también tendrá una relación fuerza-desplazamiento que debe ser obedecida.\n",
        "\n",
        "Entonces, para resolver el desplazamiento del nodo 2, necesitamos considerar todos los miembros que se encuentran en ese nodo y obedecer simultáneamente todas sus relaciones individuales fuerza-desplazamiento. Matemáticamente, esto corresponde a resolver ecuaciones simultáneas para el valor del desplazamiento en el nodo 2 que satisfaga a todos los miembros que se conectan a este nodo. Si puedes comprender este concepto, entiendes el método matricial de la rigidez, todo lo demás son solo detalles de implementación.\n",
        "\n",
        "Para implementar este método en la práctica, primero construimos una gran matriz para representar toda la estructura, llamamos a esto la ___Matriz de Rigidez de la Estructura Principal___. Aunque esta es una matriz mucho más grande, aún solo relaciona los desplazamientos nodales y las fuerzas nodales... pero para toda la estructura en lugar de un solo miembro. Para hacer esto, combinamos las matrices de rigidez de los elementos de tal manera que todos los miembros que contribuyen a cada nodo se suman en la misma ubicación en la matriz de rigidez de la estructura general. De esta manera, terminamos con un gran conjunto de ecuaciones simultáneas (elegantemente empaquetadas en una ecuación matricial) que modela el comportamiento fuerza-desplazamiento de la estructura. Luego, solo es cuestión de resolver estas ecuaciones para los desplazamientos estructurales desconocidos utilizando las técnicas habituales (es decir, una computadora) para resolver ecuaciones matriciales.\n"
      ]
    },
    {
      "cell_type": "markdown",
      "id": "255f979f-6191-40a0-9e5f-2495849b0a38",
      "metadata": {
        "id": "255f979f-6191-40a0-9e5f-2495849b0a38"
      },
      "source": [
        "Para entender este concepto primero comenzaremos con un ejemplo.  \n",
        "Tomemos la siguiente estructura de celosías. En esta estructura tenemos 4 nodos numerados, y 3 vigas (elementos) nombrados A, B y C.  \n",
        "<img src=\"https://www.engineeringskills.com/_next/image?url=%2Fimages%2Fposts%2Fdirect-stiffness-method%2FTruss.jpg&w=640&q=75\" alt=\"Truss Structure\" width=\"400\"/>  \n",
        "El primer paso es identificar los posibles desplazamientos que cada nodo puede tener. A estos los llamaremos grados de libertad.  \n",
        "<img src=\"https://www.engineeringskills.com/_next/image?url=%2Fimages%2Fposts%2Fdirect-stiffness-method%2FTruss-degrees-of-freedom.jpg&w=640&q=75\" alt=\"Degrees of Freedom\" width=\"400\"/>  \n",
        "  \n",
        "# Matriz de rigidez global de un elemento\n",
        "Para poder combinar nuestras matrices de rigidez de los elementos, primero debemos tener en cuenta el hecho de que todos están orientados en diferentes ángulos. Esto significa que una fuerza axial para el miembro A, por ejemplo, no puede actualmente sumarse directamente a una fuerza axial del miembro B ya que están orientados en diferentes ángulos. Por lo tanto, necesitamos realizar una transformación que mapee las fuerzas y desplazamientos de cada miembro en un ___marco de referencia global común___. Para esto utilizamos una matriz de transformación, $[T]$. Ahora, esto puede derivarse fácilmente, pero en interés de la brevedad, por ahora simplemente establecemos la siguiente relación entre las coordenadas en un marco de referencia local del miembro y las coordenadas correspondientes en un marco de referencia global de la estructura:\n",
        "$$\n",
        "\\begin{Bmatrix}\n",
        "u_{x,L,1} \\\\\n",
        "u_{x,L,2}\n",
        "\\end{Bmatrix}\n",
        "=\\begin{bmatrix}\n",
        "\\cos\\theta & \\sin\\theta & 0 & 0 \\\\\n",
        "0 & 0 & \\cos\\theta & \\sin\\theta\n",
        "\\end{bmatrix}\n",
        "\\begin{Bmatrix}\n",
        "u_{x,G,1} \\\\\n",
        "u_{y,G,1} \\\\\n",
        "u_{x,G,2} \\\\\n",
        "u_{y,G,2}\n",
        "\\end{Bmatrix}\n",
        "$$  \n",
        "\n",
        "Esta ecuación traduce los desplazamientos que sufre un miembro en cada uno de sus nodos, dentro del marco de referencia global, al desplazamiento equivalente en un marco de referencia local y axial, paralelo al eje (¡¡Literalmente es una ___transformación lineal___!!). Donde $u_{x,L,1}$ y $u_{x,L,2}$ son los desplazamientos axiales locales en los nodos 1 y 2. Podemos resumir esto como $\\{u_L\\} = [T]\\{u_G\\}$. La matriz de transformación (___!Lineal¡___) $[T]$ actúa como un puente entre las coordenadas locales y globales, siempre y cuando utilicemos un método para determinar el ángulo de orientación del miembro en cuestión, $\\theta$, y lo apliquemos consistentemente a todos los miembros. Podemos usar la misma técnica para conectar las fuerzas en un marco de referencia local del elemento $\\{F_L\\}$ y sus valores $\\{F_G\\}$ en el marco de referencia global común (para todos los miembros).\n",
        "$$\n",
        "\\begin{Bmatrix}\n",
        "F_{x,G,1} \\\\\n",
        "F_{y,G,1} \\\\\n",
        "F_{x,G,2} \\\\\n",
        "F_{y,G,2}\n",
        "\\end{Bmatrix}\n",
        "=\\begin{bmatrix}\n",
        "\\cos\\theta & 0 \\\\\n",
        "\\sin\\theta & 0 \\\\\n",
        "0          & \\cos\\theta \\\\\n",
        "0          & \\sin\\theta\n",
        "\\end{bmatrix}\n",
        "\\begin{Bmatrix}\n",
        "F_{x,L,1} \\\\\n",
        "F_{x,L,2}\n",
        "\\end{Bmatrix}\n",
        "$$  \n"
      ]
    },
    {
      "cell_type": "markdown",
      "id": "f9a16b10-7844-49a0-90a6-541e82b86b9c",
      "metadata": {
        "id": "f9a16b10-7844-49a0-90a6-541e82b86b9c"
      },
      "source": [
        "Podemos resumir esta relación como $\\{F_G\\} = [T]^T \\{F_L\\}$. Ahora que tenemos el vínculo entre:\n",
        "- Fuerzas en un marco de referencia local y global\n",
        "- Desplazamientos en un marco de referencia local y global\n",
        "\n",
        "necesitamos finalmente vincular las fuerzas en un marco de referencia global con los desplazamientos en un marco de referencia global. Consideremos la ecuación que relaciona la fuerza y el desplazamiento en el elemento local,\n",
        "$$\n",
        "\\{F_L\\} = \\frac{EA}{L} \\begin{bmatrix}\n",
        "1 & -1 \\\\\n",
        "-1 & 1\n",
        "\\end{bmatrix} \\{u_L\\}\n",
        "$$\n",
        "\n",
        "Esta relación ahora se puede transformar al marco de referencia global utilizando la matriz de transformación \\([T]\\).\n",
        "\n",
        "$$\n",
        "\\{F_L\\} = [T]^T \\frac{EA}{L} \\begin{bmatrix}\n",
        "1 & -1 \\\\\n",
        "-1 & 1\n",
        "\\end{bmatrix} \\{u_L\\}\n",
        "$$\n",
        "\n",
        "Entonces, al sustituir $\\{u_L\\} = [T] \\{u_G\\}$, obtenemos\n",
        "\n",
        "$$\n",
        "\\{F_G\\} = [T]^T \\frac{EA}{L} \\begin{bmatrix}\n",
        "1 & -1 \\\\\n",
        "-1 & 1\n",
        "\\end{bmatrix} [T] \\{u_G\\}\n",
        "$$\n",
        "\n",
        "Esto nos da la relación entre fuerzas y desplazamientos en el marco de referencia global."
      ]
    },
    {
      "cell_type": "markdown",
      "id": "76ac0896-19b6-47d6-964b-eb1dfa9522a5",
      "metadata": {
        "id": "76ac0896-19b6-47d6-964b-eb1dfa9522a5"
      },
      "source": [
        "Por lo tanto, podemos identificar $[T]^T [K_L] [T]$ como la Matriz de Rigidez del Elemento Global, $[K_G]$, que relaciona las fuerzas definidas en un marco de referencia global con los desplazamientos también definidos en un marco de referencia global. Para mayor claridad, definamos $c = \\cos\\theta$ y $s = \\sin\\theta$. Después de realizar la multiplicación de matrices, $[T]^T [K_L] [T]$, obtenemos $[K_G]$ como,\n",
        "\n",
        "$$\n",
        "[K_G] = [T]^T [K_L] [T] = \\frac{EA}{L}\n",
        "\\begin{bmatrix}\n",
        "c^2 & cs & -c^2 & -cs \\\\\n",
        "cs & s^2 & -cs & -s^2 \\\\\n",
        "-c^2 & -cs & c^2 & cs \\\\\n",
        "-cs & -s^2 & cs & s^2\n",
        "\\end{bmatrix} \\quad (13)\n",
        "$$\n",
        "\n",
        "Ahora podemos calcular una ___matriz de rigidez de elemento global___ para cada elemento de nuestra estructura que codifica la orientación del miembro. Una vez calculadas, estas se pueden combinar directamente para construir la ___matriz de rigidez de la estructura principal___.\n"
      ]
    },
    {
      "cell_type": "markdown",
      "id": "3f5ef518-38c4-4068-baee-ca77bad94d72",
      "metadata": {
        "id": "3f5ef518-38c4-4068-baee-ca77bad94d72"
      },
      "source": [
        "# Matriz de rigidez de la estructura principal\n",
        "\n",
        "Acá veremos cómo se construye la matriz de rigidez de la estructura completa, aplicando lo que hemos visto hasta ahora en la tarea y construyendo una matriz mucho más grande que es capaz de codificar toda la información que queremos obtener dado los desplazamientos o fuerzas conocidas.\n",
        "\n",
        "### Paso 1: Dividir las matrices de rigidez de los elementos en cuadrantes\n",
        "\n",
        "Cada matriz de rigidez de un elemento es de $4 \\times 4$, por lo que dividiremos cada una en cuadrantes de $2 \\times 2$. Así, el elemento A, por ejemplo, se dividiría de la siguiente manera:\n",
        "\n",
        "$$\n",
        "[K_A] = \\frac{EA}{L}\n",
        "\\begin{bmatrix}\n",
        "c^2 & cs & -c^2 & -cs \\\\\n",
        "cs & s^2 & -cs & -s^2 \\\\\n",
        "-c^2 & -cs & c^2 & cs \\\\\n",
        "-cs & -s^2 & cs & s^2\n",
        "\\end{bmatrix}\n",
        "= \\frac{EA}{L}\n",
        "\\begin{bmatrix}\n",
        "K_{A,11} & K_{A,12} \\\\\n",
        "K_{A,21} & K_{A,22}\n",
        "\\end{bmatrix}\n",
        "$$\n",
        "\n",
        "donde cada $K_{A,ij}$ es una submatriz de $2 \\times 2$.  \n",
        "Además, como se mencionó al comienzo cuando desarrollamos la matriz de rigidez de un elemento local, las fuerzas generadas en cada nodo y en cada grado de libertad serán opuestas y de igual magnitud, por lo que la viga permanece estática, que es lo que se esperaba dado que estamos analizando estructuras rígidas y no móviles.\n",
        "\n",
        "Donde,\n",
        "\n",
        "$$\n",
        "[K_{A,12}] = EA \\begin{bmatrix}\n",
        "c^2 & cs \\\\\n",
        "cs & s^2\n",
        "\\end{bmatrix} \\quad\n",
        "$$\n",
        "\n",
        "$$\n",
        "[K_{A,21}] = EA \\begin{bmatrix}\n",
        "-c^2 & -cs \\\\\n",
        "-cs & -s^2\n",
        "\\end{bmatrix} \\quad\n",
        "$$\n",
        "\n",
        "$$\n",
        "[K_{A,11}] = EA \\begin{bmatrix}\n",
        "-c^2 & -cs \\\\\n",
        "-cs & -s^2\n",
        "\\end{bmatrix} \\quad\n",
        "$$\n",
        "\n",
        "$$\n",
        "[K_{A,22}] = EA \\begin{bmatrix}\n",
        "c^2 & cs  \\\\\n",
        "cs & s^2\n",
        "\\end{bmatrix} \\quad\n",
        "$$\n",
        "\n",
        "El mismo proceso de subdivisión se repite para cada miembro de nuestra estructura. Veremos en breve qué representa cada cuadrante.\n"
      ]
    },
    {
      "cell_type": "markdown",
      "id": "444bccf1-1ebc-4f34-9066-9fcd3fd6e9bb",
      "metadata": {
        "id": "444bccf1-1ebc-4f34-9066-9fcd3fd6e9bb"
      },
      "source": [
        "### Paso 2: Configurar la plantilla de la matriz de rigidez principal\n",
        "\n",
        "Ahora podemos configurar una plantilla para la matriz de rigidez principal que hará que sea fácil ver dónde se insertan los cuadrantes de nuestras matrices de rigidez de los elementos. Dado que nuestra estructura tiene 4 nodos, nuestra plantilla será de $4 \\times 4$, por ahora podemos llenarla con marcadores de posición de la siguiente manera:\n",
        "\n",
        "$$\n",
        "[K_P] =\n",
        "\\begin{bmatrix}\n",
        "k_{11} & k_{12} & k_{13} & k_{14} \\\\\n",
        "k_{21} & k_{22} & k_{23} & k_{24} \\\\\n",
        "k_{31} & k_{32} & k_{33} & k_{34} \\\\\n",
        "k_{41} & k_{42} & k_{43} & k_{44}\n",
        "\\end{bmatrix} \\quad (22)\n",
        "$$\n",
        "\n",
        "Cada elemento en la plantilla anterior representa una matriz de $2 \\times 2$, por lo que esta plantilla en realidad representa una matriz de rigidez de estructura principal de $8 \\times 8$ cuando se llena.\n"
      ]
    },
    {
      "cell_type": "markdown",
      "id": "55597751-768d-41e5-96e8-06212b198e84",
      "metadata": {
        "id": "55597751-768d-41e5-96e8-06212b198e84"
      },
      "source": [
        "### Paso 3: Llenar la plantilla con los cuadrantes de las matrices de rigidez de los elementos\n",
        "\n",
        "Ahora podemos tomar los cuadrantes de las matrices de rigidez de los elementos e insertarlos en las posiciones relevantes en la plantilla de la matriz de rigidez principal. Para cada miembro, identifique los números de nodo en cada extremo del miembro, esto define las filas y columnas en las que se ajustan los cuadrantes de ese miembro. Más específicamente, los cuadrantes de la matriz de rigidez del elemento se posicionan en la intersección de las filas y columnas identificadas por los números de nodo. Consideremos el miembro A como ejemplo; une los nodos 1 y 4, y por lo tanto contribuye a la matriz de rigidez principal de la siguiente manera:\n",
        "\n",
        "![plantiza_mrp](https://www.engineeringskills.com/_next/image?url=%2Fimages%2Fposts%2Fdirect-stiffness-method%2FStiffness-member-A-1.jpg&w=750&q=75)\n",
        "\n",
        "Seguimos el mismo proceso exacto para agregar todas las matrices de rigidez de los elementos a la matriz de rigidez principal. Observe que cada vez que agregamos la contribución de otro miembro, terminamos agregando al elemento $k_{44}$. Basado en nuestra discusión anterior del concepto del método de rigidez directa, esto tiene sentido ya que todos los miembros se encuentran en el nodo 4 y por lo tanto contribuyen al comportamiento de ese nodo.\n",
        "\n",
        "Como habíamos dicho más arriba, ahora hablaremos de qué representa cada cuadrante y por qué se ordena de la manera que se ordena en la matriz de rigidez principal. Como bien dice arriba, cada elemento $k_{i,j}$ en la ___matriz de rigidez principal___, representa un cuadrante de una ___matriz de rigidez global de un elemento___ específico. Este elemento es el que conecta los nodos de la fila y la columna donde debe ir el cuadrante respectivo. Si volvemos arriba donde definimos la matriz de rigidez global de cada elemento, vemos que esta actúa como una transformación lineal (al igual que todas las matrices que hemos visto hasta ahora en la tarea) y justamente transforma un vector perteneciente a $R^4$ en otro vector perteneciente a $R^4$, donde el primer vector representa los desplazamientos, en términos globales que sufre cada nodo, respecto a cada grado de libertad que tiene, y el segundo vector es el vector que describe las fuerzas, en términos globales, que sufre cada nodo, también para cada grado de libertad que tiene. Veámoslo en más detalle:\n",
        "\n",
        "De\n",
        "\n",
        "$$\n",
        "[K_A] = \\frac{EA}{L}\n",
        "\\begin{bmatrix}\n",
        "c^2 & cs & -c^2 & -cs \\\\\n",
        "cs & s^2 & -cs & -s^2 \\\\\n",
        "-c^2 & -cs & c^2 & cs \\\\\n",
        "-cs & -s^2 & cs & s^2\n",
        "\\end{bmatrix}\n",
        "= \\frac{EA}{L}\n",
        "\\begin{bmatrix}\n",
        "K_{A,11} & K_{A,12} \\\\\n",
        "K_{A,21} & K_{A,22}\n",
        "\\end{bmatrix}\n",
        "$$\n",
        "\n",
        "donde,\n",
        "\n",
        "$$\n",
        "\\begin{align}\n",
        "[K_{A,12}] &= \\frac{EA}{L} \\begin{bmatrix}\n",
        "c^2 & cs \\\\\n",
        "cs & s^2\n",
        "\\end{bmatrix} \\\\\n",
        "[K_{A,21}] &= \\frac{EA}{L} \\begin{bmatrix}\n",
        "-c^2 & -cs \\\\\n",
        "-cs & -s^2\n",
        "\\end{bmatrix} \\\\\n",
        "[K_{A,11}] &= \\frac{EA}{L} \\begin{bmatrix}\n",
        "-c^2 & -cs \\\\\n",
        "-cs & -s^2\n",
        "\\end{bmatrix} \\\\\n",
        "[K_{A,22}] &= \\frac{EA}{L} \\begin{bmatrix}\n",
        "c^2 & cs  \\\\\n",
        "cs & s^2\n",
        "\\end{bmatrix}\n",
        "\\end{align}\n",
        "$$\n",
        "\n",
        "se desprende que cada cuadrante representa la fracción de la suma de fuerzas totales que aporta cada deformación en el grado de libertad $x$ e $y$ desde el nodo $i$ al nodo $j$, donde $i$ es nodo de inicio y $j$ es el nodo de llegada. Es decir, el primer cuadrante nos da la parte que actúa sobre el primer nodo, desde él mismo, mientras que el segundo cuadrante, nos da la parte de la fuerza que actúa sobre el primer nodo desde el segundo nodo. Luego lo mismo pasa con el tercer y cuarto cuadrante, donde el tercer cuadrante representa la transformación requerida para encontrar la fracción de la fuerza que actúa sobre el segundo nodo, que proviene del primer nodo, y el cuarto cuadrante nos da la transformación requerida para encontrar la otra fracción de la fuerza que actúa sobre el segundo nodo, que proviene de sí mismo.\n",
        "\n",
        "Con este análisis podemos encontrar la posición en la ___matriz de rigidez de la estructura principal___ de cualquier cuadrante de cada ___matriz de rigidez global de un elemento___, donde el cuadrante tiene su posición dada por el nodo de inicio y de final que representan la viga en cuestión. Notar que como $K_P$, nuestra matriz de rigidez de la estructura principal está compuesta por más matrices pequeñas dentro de ella, su tamaño en realidad sería el doble que el que se calcula al comienzo como se ve en,\n",
        "\n",
        "$$\n",
        "[K_P] =\n",
        "\\begin{bmatrix}\n",
        "k_{11} & k_{12} & k_{13} & k_{14} \\\\\n",
        "k_{21} & k_{22} & k_{23} & k_{24} \\\\\n",
        "k_{31} & k_{32} & k_{33} & k_{34} \\\\\n",
        "k_{41} & k_{42} & k_{43} & k_{44}\n",
        "\\end{bmatrix}\n",
        "$$\n",
        "\n",
        "donde esta matriz en realidad representa una matriz de $8 \\times 8$.\n",
        "\n",
        "Antes de comenzar con el desarrollo propio de la tarea, los invito a leer esta [página](https://www.engineeringskills.com/posts/direct-stiffness-method) donde el autor desarrolla el ejemplo que usé en este notebook y muestra cómo va quedando la matriz y las operaciones que se pueden hacer usando este método.\n"
      ]
    },
    {
      "cell_type": "markdown",
      "id": "3789abea-81ec-45bb-9f74-1a3d1fe5f655",
      "metadata": {
        "id": "3789abea-81ec-45bb-9f74-1a3d1fe5f655"
      },
      "source": [
        "# Preguntas\n",
        "Ahora que hemos revisado toda la teoría detras de como se genera la matriz de rigidez para el analisis estructural, iremos a aplicar todo este nuevo conosimiento para analizar una estructura nueva."
      ]
    },
    {
      "cell_type": "markdown",
      "id": "32b6bf37-168b-4f0d-bd86-024585a8a866",
      "metadata": {
        "id": "32b6bf37-168b-4f0d-bd86-024585a8a866"
      },
      "source": [
        "## Parte a) preguntas teóricas\n",
        "\n",
        "- identifique todas las transformaciones lineales en el contexto.\n",
        "- identificar espacios de salida y llegada de cada transformación lineal.\n",
        "- interpretacion fisica de cada coordenada de los vectores en los espacios de cada transformacion."
      ]
    },
    {
      "cell_type": "markdown",
      "id": "661f3dcb-565a-4538-8b70-8886b8daa929",
      "metadata": {
        "id": "661f3dcb-565a-4538-8b70-8886b8daa929"
      },
      "source": [
        "### Respuestas:"
      ]
    },
    {
      "cell_type": "markdown",
      "source": [
        "identifique todas las transformaciones lineales en el contexto:\n",
        "\n",
        "En el primer ejemplo, la matriz KL produce una transformación lineal de R2 a R2, ya que el vector u_l que representa el movimiento tiene 2 componentes, al igual que el vector resultante de la transformación lineal (F_l), que tiene 2 componentes en el ejemplo. La matriz K_L representa la transformación lineal. Como se dijo, la interpretación física de los vectores de las coordenadas en u_l representan el desplazamiento axial de los nodos con respecto a la propia viga."
      ],
      "metadata": {
        "id": "seskdFpNJjMz"
      },
      "id": "seskdFpNJjMz"
    },
    {
      "cell_type": "markdown",
      "source": [
        "En la matriz de rigidez global de un elemento, luego del primer ejemplo, tenemos la ecuación {uL}=[T]{uG}, donde la matriz T es 2x4, y sabemos que el vector uG es de 4x1, con 4 coordenadas, así que la multiplicación (transformación lineal, en otras palabras), debe dar como resultado una matriz o vector de 2x1, que es uL, por lo que esta transformación lineal va de R4 a R2. La interpretación física de esto es que, para cada nodo ve una viga en específico, uG es el desplazamiento en los ejes coordenados para esa viga, en esos nodos en específico, pero al multiplicarse con la matriz T (que se compone de senos y cosenos para las rotaciones), se obtienen los desplazamientos axiales en cada nodo de cada viga, pero en el sistema local, esto es, con relación a la propia viga localmente. Lo que hace esta transformación lineal es una reducción de la dimensionalidad, toma un vector uG que representa el movimiento global, y lo \"parsea\" o \"traduce\" al movimiento local de esa viga."
      ],
      "metadata": {
        "id": "myBJLmQ0MJcE"
      },
      "id": "myBJLmQ0MJcE"
    },
    {
      "cell_type": "markdown",
      "source": [
        "En la ecuación {FG}=[T]T{FL} que, según la explicación, relaciona las fuerzas en un marco de referencia local y global con los desplazamientos en un marco de referencia local y global, es una transformación lineal que toma un vector en R2 que representa las fuerzas locales y los transforma, mediante la transpuesta de T, en un vector de R4, es decir, toma las fuerzas axiales (locales) de cada nodo de una viga, y las transforma en la fuerza ejercida en cada eje y dirección del sistema global, para cada nodo."
      ],
      "metadata": {
        "id": "kIbjOvQ2PyRQ"
      },
      "id": "kIbjOvQ2PyRQ"
    },
    {
      "cell_type": "markdown",
      "source": [
        "En la transformación lineal [KG​]=[T]T[KL​][T] se va de R4 a R4."
      ],
      "metadata": {
        "id": "zUNeq_mUSiZy"
      },
      "id": "zUNeq_mUSiZy"
    },
    {
      "cell_type": "markdown",
      "source": [
        "En la matriz final, la K_p, sabemos que es de 4x4 en apariencia, pero dado que cada espacio de la matriz representa una submatriz de 2x2, el tamaño debería ser de 8x8 en total."
      ],
      "metadata": {
        "id": "d_pl-wEFUD1T"
      },
      "id": "d_pl-wEFUD1T"
    },
    {
      "cell_type": "markdown",
      "id": "fba2d46a-5f34-44f3-aedf-6342785b9897",
      "metadata": {
        "id": "fba2d46a-5f34-44f3-aedf-6342785b9897"
      },
      "source": [
        "# Parte b)\n",
        "#### implementación de la teoría"
      ]
    },
    {
      "cell_type": "code",
      "execution_count": 106,
      "id": "7b10ee86-4b31-4317-bf31-b7063f01fe55",
      "metadata": {
        "id": "7b10ee86-4b31-4317-bf31-b7063f01fe55"
      },
      "outputs": [],
      "source": [
        "# Deben instalar previamente las librerias de numpy y matplotlib para poder correr esta parte.\n",
        "# Para esto pueden usar el comando `pip install matplotlib` y `pip install numpy` en la terminal y debiesen instalarse automáticamente\n",
        "import numpy as np\n",
        "import matplotlib.pyplot as plt\n",
        "import itertools"
      ]
    },
    {
      "cell_type": "markdown",
      "id": "3c9cae83-3de4-4106-8245-858be144fef1",
      "metadata": {
        "id": "3c9cae83-3de4-4106-8245-858be144fef1"
      },
      "source": [
        "# Modelamiento de la estructura\n",
        "\n",
        "![ejercisoi](estructura.png)"
      ]
    },
    {
      "cell_type": "markdown",
      "id": "cb043862-18a5-4eea-aac3-0186bd722e96",
      "metadata": {
        "id": "cb043862-18a5-4eea-aac3-0186bd722e96"
      },
      "source": [
        "### Comenzaremos definiendo nuestra estructura y datos sobre las fuerzas ejercidas sobre ella, y las constantes que la describen."
      ]
    },
    {
      "cell_type": "code",
      "execution_count": 107,
      "id": "09acd143-8e6a-4241-8ff3-457e9d1d9b1f",
      "metadata": {
        "id": "09acd143-8e6a-4241-8ff3-457e9d1d9b1f"
      },
      "outputs": [],
      "source": [
        "# Datos de nuestra estructura\n",
        "E = 200e9 # Modulo de elasticidad(Pa)\n",
        "A = 0.005 # Area transversal de las vigas (m^2)\n",
        "\n",
        "nodos = [] # Lista donde guardaremos nuestros nodos\n",
        "vigas = [] # Lista donde guardaremos nuestras vigas\n",
        "\n",
        "# Ubicaciones de nuestros nodos con el punto A como origen\n",
        "nodos.append([0,0]) # A\n",
        "nodos.append([3,3]) # B\n",
        "nodos.append([3,0]) # C\n",
        "nodos.append([6,3]) # D\n",
        "nodos.append([6,0]) # E\n",
        "nodos.append([9,3]) # F\n",
        "nodos.append([9,0]) # G\n",
        "\n",
        "# Nodos que unen las vigas\n",
        "vigas.append([0,1]) # AB\n",
        "vigas.append([0,2]) # AC\n",
        "vigas.append([2,1]) # CB\n",
        "vigas.append([1,3]) # BD\n",
        "vigas.append([2,3]) # CD\n",
        "vigas.append([2,4]) # CE\n",
        "vigas.append([4,3]) # ED\n",
        "vigas.append([3,5]) # DF\n",
        "vigas.append([4,5]) # EF\n",
        "vigas.append([4,6]) # EG\n",
        "vigas.append([6,5]) # GF\n",
        "\n",
        "nodos = np.array(nodos).astype(float)\n",
        "vigas = np.array(vigas)\n",
        "\n",
        "# Fuerzas aplicadas a la estructura\n",
        "# Array de tuplas donde cada tupla representa la fuerza que se ejerce en el nodo respectivo, con la direccion y fuerza en el eje respectivo.\n",
        "fuerzas_aplicadas = np.zeros_like(nodos).astype(int)\n",
        "fuerzas_aplicadas[1,1] = -6e3 # En el nodo 1 (B) fijamos que hay una fuerza sobre el eje vertical (eje y) de -6KN\n",
        "fuerzas_aplicadas[3,1] = -4e3 # En el nodo 3 (D) fijamos que hay una fuerza sobre el eje vertical (eje y) de -4KN\n",
        "fuerzas_aplicadas[5,0] = 10e3 # En el nodo 5 (F) fijamos que hay una fuerza sobre el eje horizontal (eje x) de 10KN\n",
        "\n",
        "\n",
        "# Desplazamientos de los nodos fijos\n",
        "deformaciones_glf = [0,0,0,0] # Evidentemente queremos que los nodos fijos no tengan desplazamiento\n",
        "\n",
        "# Condiciones de libertad de movimiento de cada nodo (0 = fijo, 1 = libre)\n",
        "condiciones_gl = np.ones_like(nodos).astype(int) #array que contiene las condiciones sobre los grados de libertad de cada nodo.\n",
        "condiciones_gl[0,:] = 0 # En el nodo 0 (A) fijamos que los grados de libertad en ambos ejes son iguales a 0 (fijos)\n",
        "condiciones_gl[6,:] = 0 # En el nodo 6 (G) fijamos que los grados de libertad en ambos ejes son iguales a 0 (fijos)\n"
      ]
    },
    {
      "cell_type": "code",
      "execution_count": 108,
      "id": "37b0a8ad-1282-466c-9840-212bbad6edd3",
      "metadata": {
        "id": "37b0a8ad-1282-466c-9840-212bbad6edd3"
      },
      "outputs": [],
      "source": [
        "#-----------------NO MODIFICAR----------------------\n",
        "# Definiremos algunas variables globales para la implementación de las funciones\n",
        "nn = len(nodos) # Numero de nodos\n",
        "nv = len(vigas) # Numero de vigas\n",
        "gl = 2 # Grados de libertad, en este caso estamos trabajando con dos direcciones de posible desplazamiento.\n",
        "tgl = nn*gl # Total de grados de libertad, usado solo en la función incluida.\n",
        "\n",
        "\n",
        "# Estructuras para el calculo de los angulos de cada elemento\n",
        "d = nodos[vigas[:,1],:] - nodos[vigas[:,0],:] # Dimensiones de la barra en terminos del margen de referencia global\n",
        "l = np.sqrt((d**2).sum(axis=1)) # Largo de la barra en terminos del marco de referencia global\n",
        "angulos = np.arccos(d[:,0]/l)   # Angulo entre la barra y el eje X del marco de referencia global (angulo con el suelo)\n",
        "#---------------------------------------------------"
      ]
    },
    {
      "cell_type": "markdown",
      "id": "843b3dea-d1a7-40b0-be1d-c14246e16876",
      "metadata": {
        "id": "843b3dea-d1a7-40b0-be1d-c14246e16876"
      },
      "source": [
        "### Parte i) de programación\n",
        "\n",
        "En esta parte deberá completar una función que tomará como input el numero de la viga, del 0 al 10, y el angulo de la viga con el eje horizontal, y deberá retornar la matriz de rigidez de esta viga, es decir,\n",
        "$$\n",
        "[K_G] = [T]^T [K_L] [T] = \\frac{EA}{L}\n",
        "\\begin{bmatrix}\n",
        "c^2 & cs & -c^2 & -cs \\\\\n",
        "cs & s^2 & -cs & -s^2 \\\\\n",
        "-c^2 & -cs & c^2 & cs \\\\\n",
        "-cs & -s^2 & cs & s^2\n",
        "\\end{bmatrix} \\quad (13)\n",
        "$$\n",
        "__Importante__, no agregar la constante de $AE$, y la división por $L$ ya está puesta en el return."
      ]
    },
    {
      "cell_type": "code",
      "execution_count": 109,
      "id": "8e84e32e-9895-40a5-879f-2c3d3071e4f2",
      "metadata": {
        "id": "8e84e32e-9895-40a5-879f-2c3d3071e4f2"
      },
      "outputs": [],
      "source": [
        "# Debe completar esta función.\n",
        "# Input: el numero de viga del 0 al 10, en el orden en que se agregaron a la lista de vigas en la celda de arriba\n",
        "# y el angulo de la viga correspondiente respecto al eje horizontal\n",
        "# output esperado: una matriz de 4X4 construida usando la fórmula dada en el contexto.\n",
        "#  c^2   cs   -c^2  -cs\n",
        "#  cs    s^2  -cs   -s^2\n",
        "# -c^2  -cs    c^2   cs\n",
        "# -cs   -s^2   cs    s^2\n",
        "\n",
        "# Matriz de rigidez global de un elemento\n",
        "def matriz_rigidez_global_elemento(viga, angulo):\n",
        "    mrge = np.ndarray([4,4])\n",
        "    # Completar\n",
        "\n",
        "    c = np.cos(angulo)\n",
        "    s = np.sin(angulo)\n",
        "\n",
        "    # Hay que rellnar los valores que se usan abajo, usando de base la matriz de la tarea:\n",
        "    c2 = c**2\n",
        "    cs = c * s\n",
        "    s2 = s**2\n",
        "\n",
        "    # Paso 3: Construir la matriz de 4x4 usando un array de numpy.\n",
        "    # Llenamos la matriz exactamente como dice la fórmula.\n",
        "    mrge = np.array([\n",
        "        [ c2,  cs, -c2, -cs],\n",
        "        [ cs,  s2, -cs, -s2],\n",
        "        [-c2, -cs,  c2,  cs],\n",
        "        [-cs, -s2,  cs,  s2]\n",
        "    ])\n",
        "\n",
        "    return mrge/l[viga] # mrge debe tener la forma detallada arriba"
      ]
    },
    {
      "cell_type": "code",
      "execution_count": 110,
      "id": "dd99dba8-f5d3-48f9-ad24-82cc3c475434",
      "metadata": {
        "id": "dd99dba8-f5d3-48f9-ad24-82cc3c475434"
      },
      "outputs": [],
      "source": [
        "# Funcion auxiliar para visualizar las matrices de forma más clara\n",
        "# Sientase libre de implementarla donde crea que sea necesario para su ayuda\n",
        "def print_matrix(m):\n",
        "    for row in m:\n",
        "        print(list(np.around(row,2)))\n",
        "    print()\n",
        "    return"
      ]
    },
    {
      "cell_type": "code",
      "execution_count": 111,
      "id": "f7a22b19-df5f-47dd-9859-fd83d4ee8472",
      "metadata": {
        "id": "f7a22b19-df5f-47dd-9859-fd83d4ee8472"
      },
      "outputs": [],
      "source": [
        "# Función para calcular la matriz de rigidez de la estructura completa.\n",
        "# Es fundamental que la función de arriba esté bien definida para el correcto funcionamiento de esta función.\n",
        "# NO MODIFICAR ESTA FUNCIÓN\n",
        "# Si desea ver como se va armando la matriz de rigidez de la estructura principal, descomente las lineas dentro de la funcion.\n",
        "def matriz_rigidez_estructura_principal():\n",
        "    matriz_rigidez_estructura = np.zeros([tgl,tgl]) # Iniciamos una matriz vacía donde se irán agregando los cuadrantes correspondientes de cada matriz de rigidez global de un elemento.\n",
        "    # print(\"comenzando calculo de matriz de rigidez de estructura principal...\")\n",
        "    # print_matrix(matriz_rigidez_estructura)\n",
        "    for viga in range(len(vigas)):\n",
        "\n",
        "        angulo = angulos[viga] # Angulo que forma la k-esima viga con el eje horizontal.\n",
        "        mrge = matriz_rigidez_global_elemento(viga, angulo) # Matriz de rigidez global de un elementos, dividida por el largo de la viga que está describiendo\n",
        "\n",
        "        aux = 2*vigas[viga,:] # Variable auxiliar para encontrar los indices dentro de la matriz de rigidez de la estructura donde se sumará cada elemento de la matriz de rigidez local de un elemento.\n",
        "        indices = np.r_[aux[0]:aux[0]+2, aux[1]:aux[1]+2] # Indices en la matriz de rigidez de la estructura donde se sumará cada elemento de la matriz de rigidez local de un elemento.\n",
        "\n",
        "        matriz_rigidez_estructura[np.ix_(indices,indices)] = matriz_rigidez_estructura[np.ix_(indices,indices)] + mrge\n",
        "\n",
        "        # print(f\"agregando viga {viga}...\\n\\\n",
        "# matriz de rigidez global del elemento {viga} entre {vigas[viga]}, grados de libertad {indices}\")\n",
        "        # print_matrix(mrge)\n",
        "\n",
        "        # print(f\"matriz de rigidez de la estructura luego de agregar elemento {viga}\")\n",
        "        # print_matrix(matriz_rigidez_estructura)\n",
        "\n",
        "    return matriz_rigidez_estructura*(A*E)"
      ]
    },
    {
      "cell_type": "code",
      "execution_count": 112,
      "id": "0df8a43e-58db-42f9-978f-abb466d7547e",
      "metadata": {
        "id": "0df8a43e-58db-42f9-978f-abb466d7547e"
      },
      "outputs": [],
      "source": [
        "#calculo de fuerza sobre los nodos en cada grado de libertad del marco de referencia global\n",
        "#retorna dos matrizes de 7X2 donde cada fila es un nodo, y cada columna representa un eje del marco de referencia global\n",
        "#la matrizes contiene la deformacion, o despazamiento que sufre cada nodo al ser sometido a las fuerzas que definimos\n",
        "#y la otra matriz contiene las fuerzas que son aplicadas sobre cada nodo en cada grado de libertad.\n",
        "#NO MODIFICAR ESTA FUNCIÓN\n",
        "def calculadora_fuerzas_desplazamientos(mrep):\n",
        "    #los grados de libertad que están fijos y libres segun el dibujo de la estructura.\n",
        "    gl_libres = condiciones_gl.flatten().nonzero()[0]\n",
        "    gl_fijos  = (condiciones_gl.flatten() == 0).nonzero()[0]\n",
        "\n",
        "    gl_libres = np.array(list(itertools.product(gl_libres,gl_libres)))\n",
        "    gl_fijos  = np.array(list(itertools.product(gl_fijos,gl_fijos)))\n",
        "\n",
        "    #arreglamos nuestra matriz para dejar una diagonal de unos excepto en las coordenadas de nodos fijos. Esto lo hacemos sobre una copia de mrep\n",
        "    matriz_rigidez_libres = np.zeros_like(mrep)\n",
        "    for i in gl_libres:\n",
        "        matriz_rigidez_libres[i[0],i[1]] = mrep[i[0],i[1]]\n",
        "    for i in gl_fijos:\n",
        "        if i[0] == i[1]:\n",
        "            matriz_rigidez_libres[i[0],i[1]] = 1\n",
        "\n",
        "\n",
        "    vector_fuerzas_conocidas = fuerzas_aplicadas.flatten() #expresasmos las fuerzas conocidas como un vector de 14 entradas\n",
        "\n",
        "    vector_deformaciones_globales = (1/(E*A))*np.matmul(np.linalg.inv(matriz_rigidez_libres), vector_fuerzas_conocidas) #calculamos las deformaciones globales\n",
        "\n",
        "    vector_reacciones_globales = (E*A)*np.matmul(mrep, vector_deformaciones_globales) #calculamos las fuerzas globales\n",
        "\n",
        "    vector_reacciones_globales = vector_reacciones_globales.reshape(nn, gl)\n",
        "\n",
        "    fuerzas_internas_globales = np.concatenate((vector_reacciones_globales[vigas[:,0]], vector_reacciones_globales[vigas[:,1]]), axis=1)\n",
        "\n",
        "    vector_transfirmacion = np.around(np.array((-np.cos(angulos), -np.sin(angulos), np.cos(angulos), np.sin(angulos))),2).T\n",
        "    vector_internas_locales = E*A/l[:] * (vector_transfirmacion[:]*fuerzas_internas_globales[:]).sum(axis=1)\n",
        "\n",
        "\n",
        "    return vector_reacciones_globales.reshape(nn, gl), vector_deformaciones_globales.reshape(nn, gl), vector_internas_locales.reshape(len(vigas),1)"
      ]
    },
    {
      "cell_type": "code",
      "execution_count": 113,
      "id": "69f24b8d-bb7b-4060-966d-8fd6ceb3306d",
      "metadata": {
        "id": "69f24b8d-bb7b-4060-966d-8fd6ceb3306d"
      },
      "outputs": [],
      "source": [
        "# Función para gráficar la deformación de la estructura.\n",
        "# color: color, sugerido ('red', 'grey')\n",
        "# ls: estilo de linea, sugerido('--')\n",
        "# lw: ancho de linea, sugerido(1)\n",
        "# label: etiqueta, Utilice ('deformado', 'no deformado')\n",
        "def plot(nodos, color, ls, lw, label):\n",
        "\n",
        "    for i in range(len(vigas)):\n",
        "        xi, xf = nodos[vigas[i,0],0], nodos[vigas[i,1],0]\n",
        "        yi, yf = nodos[vigas[i,0],1], nodos[vigas[i,1],1]\n",
        "\n",
        "        line, = plt.plot([xi, xf], [yi, yf], color=color, linestyle=ls, linewidth=lw)\n",
        "    line.set_label(label)\n",
        "    plt.legend(prop = {'size': 8})"
      ]
    },
    {
      "cell_type": "markdown",
      "id": "028a9d94-5d8c-4dd7-a765-8e525531a5f7",
      "metadata": {
        "id": "028a9d94-5d8c-4dd7-a765-8e525531a5f7"
      },
      "source": [
        "Una vez definidas todas las funciones, ejecutelas de tal forma que pueda gráficar las estructuras sin deformación y con deformación, utilizando la función Plot definida en la celda de arriba. (Para gráficar la estructura deformada debe aplicar un escalamiento ya que los movimientos son tan pequeños que no se ven a primera vista sin escalarse)\n",
        "Recomendaciones:\n",
        "- Identifique que vectores y matrices va a necesitar para poder gráficar las estructuras.\n",
        "- Fijese bien en las definiciones de cada función para entender bien que hay que entregarles y que nos retornan.\n",
        "- Usando su conocimiento de la teoría detras de todo esto, identifique cual es el orden en que debe ejecutar las funciones para obtener el resultado final esperado."
      ]
    },
    {
      "cell_type": "code",
      "execution_count": 128,
      "id": "4636c5ad-7dcd-4959-8ecf-8d86ead2a163",
      "metadata": {
        "colab": {
          "base_uri": "https://localhost:8080/",
          "height": 665
        },
        "id": "4636c5ad-7dcd-4959-8ecf-8d86ead2a163",
        "outputId": "3923e8cf-7fc9-4a0b-fba0-1698b3a1294c"
      },
      "outputs": [
        {
          "output_type": "stream",
          "name": "stdout",
          "text": [
            "Deformaciones (x, y):\n",
            "[[ 0.00000000e+00  0.00000000e+00]\n",
            " [ 6.22842712e-14 -7.92548340e-14]\n",
            " [ 1.60000000e-14 -6.72548340e-14]\n",
            " [ 5.62842712e-14 -7.35979797e-14]\n",
            " [ 2.00000000e-14 -4.95979797e-14]\n",
            " [ 6.22842712e-14 -2.40000000e-14]\n",
            " [ 0.00000000e+00  0.00000000e+00]]\n"
          ]
        },
        {
          "output_type": "display_data",
          "data": {
            "text/plain": [
              "<Figure size 1000x600 with 1 Axes>"
            ],
            "image/png": "[encoded data removed]"
          },
          "metadata": {}
        }
      ],
      "source": [
        "#Desarrollo\n",
        "\n",
        "#Calculamos la matriz de rigidez con la función entregada\n",
        "K_P = matriz_rigidez_estructura_principal()\n",
        "\n",
        "# Calculamos las deformaciones, fuerzas globales y locales con la calculadora,\n",
        "# pasandole la matriz de rigidez almacenada en la variable K_P al inicio de la celda, así\n",
        "# resolvemos el sistema y encontramos los vectores necesarios:\n",
        "fuerzas_globales, deformaciones, fuerzas_locales = calculadora_fuerzas_desplazamientos(K_P)\n",
        "\n",
        "print(\"Deformaciones (x, y):\")\n",
        "print(deformaciones) # Verificamos si hay deformaciones para evitar errores.\n",
        "\n",
        "escala = 3500000000000 # Tuve que aumentar mucho la escala para ver las deformaciones!\n",
        "nodos_deformados = nodos + (deformaciones * escala)\n",
        "\n",
        "plt.figure(figsize=(10, 6))\n",
        "\n",
        "plot(nodos, color='blue', ls='--', lw=1, label='Vigas no deformadas.')\n",
        "plot(nodos_deformados, color='red', ls='-', lw=1, label=f'Deformado en escala de {escala}')\n",
        "\n",
        "plt.grid(True)\n",
        "plt.axis('equal')\n",
        "plt.show()"
      ]
    },
    {
      "cell_type": "code",
      "execution_count": 115,
      "id": "cefb0304-9e25-4b46-a551-7dd15538b67a",
      "metadata": {
        "id": "cefb0304-9e25-4b46-a551-7dd15538b67a"
      },
      "outputs": [],
      "source": [
        "# EXTRA: Con esta función va a poder graficar las fuerzas internas a las que están sometidas las vigas de la estructura.\n",
        "# Para usarla edben darle los nodos,y las fuerzas internas conseguidas antes de la funcion calculadora_fuerzas_desplazamientos()\n",
        "def plot_forces(nodos, forces, ls, lw):\n",
        "\n",
        "    fig, ax = plt.subplots(figsize=[12,8], ncols=1, sharey=True, sharex=True)\n",
        "    norm = mpl.colors.Normalize(vmin=-1e7, vmax=1e7)\n",
        "    cnorm = norm(forces)\n",
        "    cmap = plt.get_cmap('seismic')(cnorm)\n",
        "\n",
        "    for i in range(len(vigas)):\n",
        "        xi, xf = nodos[vigas[i,0],0], nodos[vigas[i,1],0]\n",
        "        yi, yf = nodos[vigas[i,0],1], nodos[vigas[i,1],1]\n",
        "\n",
        "        ax.plot([xi,xf], [yi,yf], c=cmap[i], lw=4, )\n",
        "\n",
        "    ax.set_title('fuerzas internas')\n",
        "    fig.colorbar(mpl.cm.ScalarMappable(norm, plt.get_cmap('seismic')), ax=ax, ticks=None)\n"
      ]
    },
    {
      "cell_type": "code",
      "execution_count": 129,
      "id": "de71cc61-8147-44b0-8cbf-eb70e9fdd8ad",
      "metadata": {
        "colab": {
          "base_uri": "https://localhost:8080/",
          "height": 699
        },
        "id": "de71cc61-8147-44b0-8cbf-eb70e9fdd8ad",
        "outputId": "2cf1d4fa-d756-4760-d79b-56da1c09e263"
      },
      "outputs": [
        {
          "output_type": "display_data",
          "data": {
            "text/plain": [
              "<Figure size 1200x800 with 2 Axes>"
            ],
            "image/png": "[encoded data removed]"
          },
          "metadata": {}
        }
      ],
      "source": [
        "import matplotlib as mpl # No había visto esta forma de renombrarlo, tiene más sentido semántico.\n",
        "\n",
        "# Volvemos a llamar a esta funcion en esta celda, para más orden.\n",
        "K_P = matriz_rigidez_estructura_principal()\n",
        "\n",
        "# No usaremos x e y al desempaquetar el output desde la calculadora, sólo las fuerzas internas.\n",
        "x, y, vector_fuerzas_internas_locales = calculadora_fuerzas_desplazamientos(K_P)\n",
        "\n",
        "# Con los nodos que nos da la tarea y las fuerzas calculadas, llamamos a la función\n",
        "plot_forces(nodos, vector_fuerzas_internas_locales, ls=1, lw=1)\n",
        "plt.show()"
      ]
    }
  ],
  "metadata": {
    "kernelspec": {
      "display_name": "Python 3 (ipykernel)",
      "language": "python",
      "name": "python3"
    },
    "language_info": {
      "codemirror_mode": {
        "name": "ipython",
        "version": 3
      },
      "file_extension": ".py",
      "mimetype": "text/x-python",
      "name": "python",
      "nbconvert_exporter": "python",
      "pygments_lexer": "ipython3",
      "version": "3.12.4"
    },
    "colab": {
      "provenance": []
    }
  },
  "nbformat": 4,
  "nbformat_minor": 5
}