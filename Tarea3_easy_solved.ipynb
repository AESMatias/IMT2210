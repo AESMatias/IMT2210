{
  "cells": [
    {
      "cell_type": "markdown",
      "id": "4270b5d2-88c7-486a-ae46-5cf9e1ebb38a",
      "metadata": {
        "id": "4270b5d2-88c7-486a-ae46-5cf9e1ebb38a"
      },
      "source": [
        "# Tarea 3\n",
        "\n",
        "Entrega: Viernes 21 de Junio\n",
        "\n",
        "Se esperan respuestas bien desarrolladas y argumentadas para cada parte de código de la tarea, y código conciso y legible usando solamente las librerias que se les entregan al comienzo.  \n",
        "\n",
        "Hay preguntas bonus en el pdf que se encuentra junto a este enunciado en canvas."
      ]
    },
    {
      "cell_type": "markdown",
      "id": "c11cc04e-c978-4447-9375-66928ebb629e",
      "metadata": {
        "execution": {
          "iopub.execute_input": "2024-06-07T21:49:45.356853Z",
          "iopub.status.busy": "2024-06-07T21:49:45.356853Z",
          "iopub.status.idle": "2024-06-07T21:49:45.381812Z",
          "shell.execute_reply": "2024-06-07T21:49:45.380782Z",
          "shell.execute_reply.started": "2024-06-07T21:49:45.356853Z"
        },
        "id": "c11cc04e-c978-4447-9375-66928ebb629e"
      },
      "source": [
        "## Introducción\n",
        "\n",
        "Para trabajar usaremos las librerías *sympy* y *numpy*. Recordar que para instalar las librerías se debe usar en la consola:\n",
        "\n",
        "```pip install sympy```\n",
        "\n",
        "```pip install numpy```"
      ]
    },
    {
      "cell_type": "code",
      "source": [
        "!pip install sympy"
      ],
      "metadata": {
        "colab": {
          "base_uri": "https://localhost:8080/"
        },
        "id": "6cGCV9ktYX5l",
        "outputId": "c461f178-9110-4c88-c251-6c64f6a07d94"
      },
      "id": "6cGCV9ktYX5l",
      "execution_count": 108,
      "outputs": [
        {
          "output_type": "stream",
          "name": "stdout",
          "text": [
            "Requirement already satisfied: sympy in /usr/local/lib/python3.11/dist-packages (1.13.1)\n",
            "Requirement already satisfied: mpmath<1.4,>=1.1.0 in /usr/local/lib/python3.11/dist-packages (from sympy) (1.3.0)\n"
          ]
        }
      ]
    },
    {
      "cell_type": "code",
      "source": [
        "!pip install numpy"
      ],
      "metadata": {
        "colab": {
          "base_uri": "https://localhost:8080/"
        },
        "id": "-0rvjZq7YafY",
        "outputId": "f6ad2f54-784a-45e0-afa5-fd021ed2544f"
      },
      "id": "-0rvjZq7YafY",
      "execution_count": 107,
      "outputs": [
        {
          "output_type": "stream",
          "name": "stdout",
          "text": [
            "Requirement already satisfied: numpy in /usr/local/lib/python3.11/dist-packages (2.0.2)\n"
          ]
        }
      ]
    },
    {
      "cell_type": "code",
      "execution_count": 109,
      "id": "0b1ad68f-1e9b-4768-a292-8c4c76e06a5b",
      "metadata": {
        "id": "0b1ad68f-1e9b-4768-a292-8c4c76e06a5b"
      },
      "outputs": [],
      "source": [
        "import sympy\n",
        "import numpy as np\n",
        "\n",
        "def rref(A): #Reduced Row Echelon Form\n",
        "    return np.array(sympy.Matrix(A).rref()[0])"
      ]
    },
    {
      "cell_type": "markdown",
      "id": "494cbda9-c9e0-4a9a-a48a-fafcd12c8f5e",
      "metadata": {
        "id": "494cbda9-c9e0-4a9a-a48a-fafcd12c8f5e"
      },
      "source": [
        "## Ejercicio 1 (6pts)\n",
        "\n",
        "Considere el siguiente sistema de ecuaciones:\n",
        "$$\n",
        "\\begin{align*}\n",
        "x  - 7y + 8z &= 8 \\\\\n",
        "3x + y  + 2z &= 7 \\\\\n",
        "7x - 5y + 5z &= 12\n",
        "\\end{align*}\n",
        "$$\n",
        "Es sencillo ver que la matriz de coeficientes y el vector del lado derecho corresponden a:\n",
        "$$\n",
        "A = \\begin{pmatrix}\n",
        "    1  &-7  &8\\\\\n",
        "    3  &1  &2\\\\\n",
        "    7  &-5  &5\n",
        "    \\end{pmatrix} \\qquad\n",
        "    b = \\begin{pmatrix} 8 \\\\ 7 \\\\ 12 \\end{pmatrix}\n",
        "$$\n",
        "\n",
        "Escriba los componentes del sistema de ecuaciones usando las librerías y resuelva."
      ]
    },
    {
      "cell_type": "markdown",
      "id": "07f23876-30a6-4178-bd77-0783f2642232",
      "metadata": {
        "id": "07f23876-30a6-4178-bd77-0783f2642232"
      },
      "source": [
        "#### Metodo 1: Utilizando rref (Reduced Row Echelon Form) Forma Escalonada Reducida"
      ]
    },
    {
      "cell_type": "code",
      "execution_count": 110,
      "id": "de57486a-1dc6-4832-a45c-b2fbe52ee2c5",
      "metadata": {
        "colab": {
          "base_uri": "https://localhost:8080/",
          "height": 132
        },
        "id": "de57486a-1dc6-4832-a45c-b2fbe52ee2c5",
        "outputId": "20375d8b-68f8-46a6-8e0d-05ec743c421f"
      },
      "outputs": [
        {
          "output_type": "stream",
          "name": "stdout",
          "text": [
            "\n",
            "La solución es: \n",
            "\n"
          ]
        },
        {
          "output_type": "display_data",
          "data": {
            "text/plain": [
              "Matrix([\n",
              "[1, 0, 0, 179/154],\n",
              "[0, 1, 0, 101/154],\n",
              "[0, 0, 1,    10/7]])"
            ],
            "text/latex": "$\\displaystyle \\left[\\begin{matrix}1 & 0 & 0 & \\frac{179}{154}\\\\0 & 1 & 0 & \\frac{101}{154}\\\\0 & 0 & 1 & \\frac{10}{7}\\end{matrix}\\right]$"
          },
          "metadata": {}
        }
      ],
      "source": [
        "# Primero que nada, definimos la matriz de coeficientes y la matriz aumentada del sistema,\n",
        "# a partir del enunciado para usarla en celdas posteriores:\n",
        "\n",
        "Matriz_Coeficientes = np.array([\n",
        "    [1, -7, 8],\n",
        "    [3,  1, 2],\n",
        "    [7, -5, 5]\n",
        "], dtype=float) # Tipo float, para evitar problemas y tener más precisión\n",
        "\n",
        "Matriz_Aumentada = sympy.Matrix([\n",
        "    [1, -7, 8, 8],\n",
        "    [3, 1, 2, 7],\n",
        "    [7, -5, 5, 12]\n",
        "])\n",
        "\n",
        "\n",
        "# Aplicamos rref()\n",
        "rref_matriz, pivotes = Matriz_Aumentada.rref()\n",
        "\n",
        "#print(rref_matriz)\n",
        "print(\"\\nLa solución es: \\n\")\n",
        "# Usamos display para verlo de forma más ordenada:\n",
        "display(rref_matriz)"
      ]
    },
    {
      "cell_type": "markdown",
      "source": [
        "Podemos ver que la solución del sistema nos da la forma escalonada reducida, donde directamente sabemos que\n",
        "\n",
        "x = 179/154,\n",
        "\n",
        "y = 101/154\n",
        "\n",
        "z = 10/7"
      ],
      "metadata": {
        "id": "yY1j6_R3Jv97"
      },
      "id": "yY1j6_R3Jv97"
    },
    {
      "cell_type": "markdown",
      "id": "a40cb242-e2d0-4ee1-86c1-42dd19c29c7b",
      "metadata": {
        "id": "a40cb242-e2d0-4ee1-86c1-42dd19c29c7b"
      },
      "source": [
        "#### Metodo 2: Utilizando linalg.solve de la librería numpy"
      ]
    },
    {
      "cell_type": "code",
      "execution_count": 111,
      "id": "1470dcd9-12ff-4ce0-9f6a-f7fc007ce4b2",
      "metadata": {
        "colab": {
          "base_uri": "https://localhost:8080/"
        },
        "id": "1470dcd9-12ff-4ce0-9f6a-f7fc007ce4b2",
        "outputId": "4d6d7838-b452-4fc3-e4bd-dd2c4aef73fa"
      },
      "outputs": [
        {
          "output_type": "stream",
          "name": "stdout",
          "text": [
            "La solución es: \n",
            " \n",
            " x: 1.1623376623376624 \n",
            " y: 0.6558441558441558 \n",
            " z: 1.4285714285714286\n"
          ]
        }
      ],
      "source": [
        "# Vector columna b\n",
        "vector_b = np.array([8, 7, 12], dtype=float)\n",
        "\n",
        "# Usamos la matriz de coeficientes declarada arriba, en la celda anterior,\n",
        "# para resolver el sistema de la forma Ax = b con numpy:\n",
        "solucion = np.linalg.solve(Matriz_Coeficientes, vector_b)\n",
        "\n",
        "print(\"La solución, con decimales, es: \\n\", \"\\n x:\",solucion[0], \"\\n y:\", solucion[1], \"\\n z:\",solucion[2])"
      ]
    },
    {
      "cell_type": "markdown",
      "id": "802f4fb8-b792-40ee-93a1-887736119e75",
      "metadata": {
        "execution": {
          "iopub.execute_input": "2024-06-07T23:03:41.926939Z",
          "iopub.status.busy": "2024-06-07T23:03:41.926939Z",
          "iopub.status.idle": "2024-06-07T23:03:41.941352Z",
          "shell.execute_reply": "2024-06-07T23:03:41.941352Z",
          "shell.execute_reply.started": "2024-06-07T23:03:41.926939Z"
        },
        "id": "802f4fb8-b792-40ee-93a1-887736119e75"
      },
      "source": [
        "#### Metodo 3: Utilizando Regla de Cramer ([Regla de Crammer](https://en.wikipedia.org/wiki/Cramer%27s_rule))"
      ]
    },
    {
      "cell_type": "code",
      "execution_count": 112,
      "id": "6c81ea1b-a4d3-4e31-b86b-aa48f6d65896",
      "metadata": {
        "colab": {
          "base_uri": "https://localhost:8080/",
          "height": 221
        },
        "id": "6c81ea1b-a4d3-4e31-b86b-aa48f6d65896",
        "outputId": "2bf438f3-a83c-4083-db49-95f31d47da4e"
      },
      "outputs": [
        {
          "output_type": "stream",
          "name": "stdout",
          "text": [
            "Solución dada como matriz: \n",
            "\n"
          ]
        },
        {
          "output_type": "display_data",
          "data": {
            "text/plain": [
              "Matrix([\n",
              "[179/154],\n",
              "[101/154],\n",
              "[   10/7]])"
            ],
            "text/latex": "$\\displaystyle \\left[\\begin{matrix}\\frac{179}{154}\\\\\\frac{101}{154}\\\\\\frac{10}{7}\\end{matrix}\\right]$"
          },
          "metadata": {}
        },
        {
          "output_type": "stream",
          "name": "stdout",
          "text": [
            "\n",
            " Solución explícita en valor decimal para las variables: \n",
            " \n",
            " x: 1.1623376623376624 \n",
            " y: 0.6558441558441559 \n",
            " z: 1.4285714285714286\n"
          ]
        }
      ],
      "source": [
        "# Usando Sympy para resolver de forma simbólica:\n",
        "\n",
        "# Definimos la matriz de coeficientes y la solución particular del sistema, pero con sympy:\n",
        "Matriz_Coeficientes_Sympy = sympy.Matrix([\n",
        "    [1, -7, 8],\n",
        "    [3, 1, 2],\n",
        "    [7, -5, 5]\n",
        "])\n",
        "\n",
        "solucion_b = sympy.Matrix([8, 7, 12])\n",
        "\n",
        "# Calculamos los datos, primero el determinante de la matriz de coeficientes:\n",
        "det_A = Matriz_Coeficientes_Sympy.det()\n",
        "\n",
        "# Copiamos por valor, no por referencia en memoria, para no mutar la variable original:\n",
        "x = Matriz_Coeficientes_Sympy.copy()\n",
        "# : se lee como \"para todas las filas\", y luego de la coma, el 0 significa que tomamos la columna 0\n",
        "# Entonces, estamos cambiando la primera columna de todas las filas (ecuaciones), por el valor\n",
        "# correspondiente en la solución particular (el vector b en la ecuación lineal de la forma Ax=b)\n",
        "x[:,0] = solucion_b\n",
        "\n",
        "# Hacemos el procedimiento análogo para las variables x e y:\n",
        "y = Matriz_Coeficientes_Sympy.copy()\n",
        "y[:,1] = solucion_b\n",
        "\n",
        "z = Matriz_Coeficientes_Sympy.copy()\n",
        "z[:,2] = solucion_b\n",
        "\n",
        "# Calculamos las soluciones para x,y,z con el método de Cramer:\n",
        "x_val = x.det() / det_A\n",
        "y_val = y.det() / det_A\n",
        "z_val = z.det() / det_A\n",
        "\n",
        "# Mostrar resultado\n",
        "solucion = sympy.Matrix([x_val, y_val, z_val])\n",
        "print('Solución dada como matriz: \\n')\n",
        "display(solucion)\n",
        "\n",
        "print(\"\\n Solución explícita en valor decimal para las variables: \\n\", \"\\n x:\",\n",
        "      float(solucion[0]), \"\\n y:\",\n",
        "      float(solucion[1]), \"\\n z:\",\n",
        "      float(solucion[2])) # Se les puede quitar el método float para verlo como fracción.\n"
      ]
    },
    {
      "cell_type": "markdown",
      "id": "7c35e765-0af0-49f1-9f51-d393586a1ed0",
      "metadata": {
        "id": "7c35e765-0af0-49f1-9f51-d393586a1ed0"
      },
      "source": [
        "## Ejercicio 2 (4 pts)\n",
        "\n",
        "Considere el siguiente sistema de ecuaciones:\n",
        "$$\n",
        "\\begin{align*}\n",
        "-6x - 4y - 8z &= 17\\\\\n",
        "2x + 2y + 3z  &= 3\\\\\n",
        "9x - 8y + 6z  &= 8\n",
        "\\end{align*}\n",
        "$$\n",
        "¿Que tipo de sistema de ecuaciones es, homogeneo o inhomogeneo<sup>1</sup>? Encuentre el vector que resuelve este sistema.\n",
        "\n",
        "1: Un sistema de ecuaciones se llama homogeneo cuando todas las ecuaciones son igualadas a 0. Linear Algebra done right 3.25."
      ]
    },
    {
      "cell_type": "markdown",
      "source": [
        "Un sistema de ecuaciones lineales es homogeneo si cada una de las ecuaciones (filas) están igualadas al vector nulo del espacio vectorial correspondiente, esto es, si hay n ecuaciones, la solución particular b debe tener n filas también. En este caso, dado que la matriz es cuadrada de orden 3x3, la solución, para que el sistema sea homogeneo, debe ser el vector b=(0,0,0), que en estricto rigor debe estar transpuesto porque los vectores se denotan con las entradas en vertical."
      ],
      "metadata": {
        "id": "UJPBUWt9NcPh"
      },
      "id": "UJPBUWt9NcPh"
    },
    {
      "cell_type": "code",
      "execution_count": 113,
      "id": "d4ef6dbc-2ae0-4247-96bc-4db542590214",
      "metadata": {
        "colab": {
          "base_uri": "https://localhost:8080/",
          "height": 132
        },
        "id": "d4ef6dbc-2ae0-4247-96bc-4db542590214",
        "outputId": "a258e524-3545-4d41-82c3-41a66a3dcafe"
      },
      "outputs": [
        {
          "output_type": "stream",
          "name": "stdout",
          "text": [
            "El sistema es: inhomogeneo\n",
            "La solución del sistema, dada como vector: \n",
            "\n"
          ]
        },
        {
          "output_type": "display_data",
          "data": {
            "text/plain": [
              "Matrix([\n",
              "[  -227],\n",
              "[-379/4],\n",
              "[ 431/2]])"
            ],
            "text/latex": "$\\displaystyle \\left[\\begin{matrix}-227\\\\- \\frac{379}{4}\\\\\\frac{431}{2}\\end{matrix}\\right]$"
          },
          "metadata": {}
        }
      ],
      "source": [
        "# Definimos la matriz A, seguidamente del vector solución de\n",
        "# la ecuación lineal de la forma Ax=b:\n",
        "A = sympy.Matrix([\n",
        "    [-6, -4, -8],\n",
        "    [ 2,  2,  3],\n",
        "    [ 9, -8,  6]\n",
        "])\n",
        "\n",
        "b = sympy.Matrix([17, 3, 8])\n",
        "\n",
        "# Generamos un vector nulo en R3 (3x1), para comprobar si el sistema es homogéneo:\n",
        "vector_nulo_r3 = sympy.zeros(3, 1)\n",
        "\n",
        "# Generamos la variable vacía, pero se cambiará a homogeneo o inhomogeneo si el vector solución b\n",
        "# es igual al vector nulo de R3, lo que indica que el sistema es o no es homogeneo, según corresponda.\n",
        "es_homogeneo = ''\n",
        "\n",
        "if (b == vector_nulo_r3):\n",
        "    es_homogeneo = \"homogeneo\"\n",
        "else:\n",
        "    es_homogeneo = \"inhomogeneo\"\n",
        "\n",
        "print(f\"El sistema es: {es_homogeneo}\")\n",
        "\n",
        "\n",
        "# Calculamos y mostramos la solución, para ello, de la librería sympy,\n",
        "# resolvemos con el método de Gauss-Jordan:\n",
        "sol = A.gauss_jordan_solve(b) # De la matriz A, resolvemos para el vector b.\n",
        "\n",
        "print(\"La solución del sistema, dada como vector: \\n\")\n",
        "display(sol[0])\n",
        "\n",
        "# Información adicional de las soluciones:\n",
        "# sol[0] es el vector solución particular (el vector numérico que satisface la ecuación).\n",
        "# sol[1] (si existe) contendría las variables libres si el sistema tiene infinitas soluciones."
      ]
    },
    {
      "cell_type": "markdown",
      "id": "f119119f-bf6b-414b-ae55-79bcf83b1f58",
      "metadata": {
        "id": "f119119f-bf6b-414b-ae55-79bcf83b1f58"
      },
      "source": [
        "Calcule $Ax-b$. ¿Que tipo de sistema de ecuaciones es este?"
      ]
    },
    {
      "cell_type": "code",
      "source": [
        "# Esta vez, trabajamos de manera diferente, vamos a generar un vector x=(x1,x2,x3) genérico, con x1,x2,x3 en R:\n",
        "x1, x2, x3 = sympy.symbols('x1 x2 x3')\n",
        "vector_x = sympy.Matrix([x1, x2, x3])\n",
        "\n",
        "# Armamos la multiplicación de la matriz A de la celda anterior, con el vector x recién definido:\n",
        "Ax_sympy = A * vector_x\n",
        "\n",
        "print(\"\\n Ax:\\n\")\n",
        "display(Ax_sympy)\n",
        "\n",
        "# Usamos el valor del vector solución b de la celda anterior para armar la ecuación Ax = b\n",
        "ecuacion = sympy.Eq(Ax_sympy, b)\n",
        "print(\"\\n Ax = b \\n\")\n",
        "display(ecuacion)\n",
        "\n",
        "# Le restamos b a Ax_sympy para obtener Ax-b:\n",
        "Ax_menos_b_simbolico = Ax_sympy - b\n",
        "\n",
        "print(\"\\nAx - b: \\n\")\n",
        "display(Ax_menos_b_simbolico)"
      ],
      "metadata": {
        "colab": {
          "base_uri": "https://localhost:8080/",
          "height": 361
        },
        "id": "tfl4SeECQyX4",
        "outputId": "4b9b70f1-bbf5-49a8-fa6a-da8424430c17"
      },
      "id": "tfl4SeECQyX4",
      "execution_count": 114,
      "outputs": [
        {
          "output_type": "stream",
          "name": "stdout",
          "text": [
            "\n",
            " Ax:\n",
            "\n"
          ]
        },
        {
          "output_type": "display_data",
          "data": {
            "text/plain": [
              "Matrix([\n",
              "[-6*x1 - 4*x2 - 8*x3],\n",
              "[ 2*x1 + 2*x2 + 3*x3],\n",
              "[ 9*x1 - 8*x2 + 6*x3]])"
            ],
            "text/latex": "$\\displaystyle \\left[\\begin{matrix}- 6 x_{1} - 4 x_{2} - 8 x_{3}\\\\2 x_{1} + 2 x_{2} + 3 x_{3}\\\\9 x_{1} - 8 x_{2} + 6 x_{3}\\end{matrix}\\right]$"
          },
          "metadata": {}
        },
        {
          "output_type": "stream",
          "name": "stdout",
          "text": [
            "\n",
            " Ax = b \n",
            "\n"
          ]
        },
        {
          "output_type": "display_data",
          "data": {
            "text/plain": [
              "Eq(Matrix([\n",
              "[-6*x1 - 4*x2 - 8*x3],\n",
              "[ 2*x1 + 2*x2 + 3*x3],\n",
              "[ 9*x1 - 8*x2 + 6*x3]]), Matrix([\n",
              "[17],\n",
              "[ 3],\n",
              "[ 8]]))"
            ],
            "text/latex": "$\\displaystyle \\left[\\begin{matrix}- 6 x_{1} - 4 x_{2} - 8 x_{3}\\\\2 x_{1} + 2 x_{2} + 3 x_{3}\\\\9 x_{1} - 8 x_{2} + 6 x_{3}\\end{matrix}\\right] = \\left[\\begin{matrix}17\\\\3\\\\8\\end{matrix}\\right]$"
          },
          "metadata": {}
        },
        {
          "output_type": "stream",
          "name": "stdout",
          "text": [
            "\n",
            "Ax - b: \n",
            "\n"
          ]
        },
        {
          "output_type": "display_data",
          "data": {
            "text/plain": [
              "Matrix([\n",
              "[-6*x1 - 4*x2 - 8*x3 - 17],\n",
              "[  2*x1 + 2*x2 + 3*x3 - 3],\n",
              "[  9*x1 - 8*x2 + 6*x3 - 8]])"
            ],
            "text/latex": "$\\displaystyle \\left[\\begin{matrix}- 6 x_{1} - 4 x_{2} - 8 x_{3} - 17\\\\2 x_{1} + 2 x_{2} + 3 x_{3} - 3\\\\9 x_{1} - 8 x_{2} + 6 x_{3} - 8\\end{matrix}\\right]$"
          },
          "metadata": {}
        }
      ]
    },
    {
      "cell_type": "markdown",
      "source": [
        "Lo anterior fue la diferencia Ax-b dada simbólicamente con Sympy, pero si calculamos una solución particular con el vector b=(17,3,8), podemos ver que el sistema Ax-b debe dar el vector nulo, ya que A es la matriz de coeficientes, y sabemos que b es solución del sistema Ax=b, por lo que si ponemos esa \"solución\" en el vector genérico x=(x1,x2,x3) con x1,x2,x3 en R, entonces el sistema debe satisfacer esa solución, por lo que el resultado debe ser el vector nulo (0,0,0)."
      ],
      "metadata": {
        "id": "iyIWlNNBWVTY"
      },
      "id": "iyIWlNNBWVTY"
    },
    {
      "cell_type": "code",
      "execution_count": 115,
      "id": "ffb61dd0-0a08-4168-b584-7809067b4a20",
      "metadata": {
        "colab": {
          "base_uri": "https://localhost:8080/",
          "height": 114
        },
        "id": "ffb61dd0-0a08-4168-b584-7809067b4a20",
        "outputId": "20f17e64-22cb-4341-cf3c-c984471a53d1"
      },
      "outputs": [
        {
          "output_type": "stream",
          "name": "stdout",
          "text": [
            "Ax-b, con x tomando el valor de la solución del sistema obtenida, esto es, b:\n",
            "\n"
          ]
        },
        {
          "output_type": "display_data",
          "data": {
            "text/plain": [
              "Matrix([\n",
              "[0],\n",
              "[0],\n",
              "[0]])"
            ],
            "text/latex": "$\\displaystyle \\left[\\begin{matrix}0\\\\0\\\\0\\end{matrix}\\right]$"
          },
          "metadata": {}
        }
      ],
      "source": [
        "una_solucion_para_x = sol[0]\n",
        "Ax_menos_b = A * una_solucion_para_x - b\n",
        "\n",
        "print(\"Ax-b, con x tomando el valor de la solución del sistema obtenida, esto es, b:\\n\")\n",
        "display(Ax_menos_b)"
      ]
    },
    {
      "cell_type": "markdown",
      "id": "15df8525-fade-4718-a8b9-2a8d842187fd",
      "metadata": {
        "id": "15df8525-fade-4718-a8b9-2a8d842187fd"
      },
      "source": [
        "## Ejercicio 3 (2 pts)\n",
        "\n",
        "Considere el siguiente sistema de ecuaciones:\n",
        "$$\n",
        "\\begin{align*}\n",
        "-10x + 4y &= 0 \\\\\n",
        "15x -6y &= 0\n",
        "\\end{align*}\n",
        "$$\n",
        "\n",
        "Resuelva el sistema de ecuaciones y explique por que se llega al resultado."
      ]
    },
    {
      "cell_type": "markdown",
      "source": [
        "Se puede notar que la segunda ecuación o fila es el resultado de tomar la primera y sumarle la misma fila multiplicada por -1/2, esto es, las filas están en relación 2:3."
      ],
      "metadata": {
        "id": "x_4vLIbZRUgm"
      },
      "id": "x_4vLIbZRUgm"
    },
    {
      "cell_type": "code",
      "execution_count": 116,
      "id": "d9610f3e-fd06-41e3-837e-0a977c7e0639",
      "metadata": {
        "colab": {
          "base_uri": "https://localhost:8080/",
          "height": 94
        },
        "id": "d9610f3e-fd06-41e3-837e-0a977c7e0639",
        "outputId": "ffc27589-cd98-47b1-ef8b-d13cc6d5b8e2"
      },
      "outputs": [
        {
          "output_type": "stream",
          "name": "stdout",
          "text": [
            "Solución general, dada como vector:\n",
            "\n"
          ]
        },
        {
          "output_type": "display_data",
          "data": {
            "text/plain": [
              "Matrix([\n",
              "[2*tau0/5],\n",
              "[    tau0]])"
            ],
            "text/latex": "$\\displaystyle \\left[\\begin{matrix}\\frac{2 \\tau_{0}}{5}\\\\\\tau_{0}\\end{matrix}\\right]$"
          },
          "metadata": {}
        }
      ],
      "source": [
        "# Armamos la matriz de coeficientes de la ecuación lineal de la forma Ax=b:\n",
        "A = sympy.Matrix([\n",
        "    [-10, 4],\n",
        "    [15, -6]\n",
        "])\n",
        "\n",
        "# El vector b solución es el vector nulo en R2 (0,0):\n",
        "b = sympy.Matrix([0, 0])\n",
        "\n",
        "# Solucionamos, como antes, con Guass-Jordan:\n",
        "solucion = A.gauss_jordan_solve(b)\n",
        "\n",
        "print(\"Solución general, dada como vector:\\n\")\n",
        "display(solucion[0])  # Matriz de la solución general."
      ]
    },
    {
      "cell_type": "markdown",
      "source": [
        "Investigando, se puede ver que las soluciones dadas por la matriz simbolizan un conjunto de valores infinitos para x e y. Según el output obtenido con display(solucion[0]), obtenemos 2/5 de Tau_0 para x, mientras que para y obtenemos y = tau_0\n",
        "\n",
        "Dado que Tau_0 es la forma de representar la solución paramatrizada, el sistema tiene infinitas soluciones dadas por valores arbitrarios dados a Tau_0. Por ejemplo, si Tau_0 = 1, entonces una solución del sistema estaría dada por:\n",
        "\n",
        "x = 2/5\n",
        "\n",
        "y = 1"
      ],
      "metadata": {
        "id": "hBgDDZqQSyt-"
      },
      "id": "hBgDDZqQSyt-"
    }
  ],
  "metadata": {
    "kernelspec": {
      "display_name": "Python 3 (ipykernel)",
      "language": "python",
      "name": "python3"
    },
    "language_info": {
      "codemirror_mode": {
        "name": "ipython",
        "version": 3
      },
      "file_extension": ".py",
      "mimetype": "text/x-python",
      "name": "python",
      "nbconvert_exporter": "python",
      "pygments_lexer": "ipython3",
      "version": "3.12.4"
    },
    "colab": {
      "provenance": []
    }
  },
  "nbformat": 4,
  "nbformat_minor": 5
}